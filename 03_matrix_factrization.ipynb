{
 "cells": [
  {
   "cell_type": "code",
   "execution_count": 1,
   "metadata": {},
   "outputs": [],
   "source": [
    "import pandas as pd\n",
    "import numpy as np\n",
    "from scipy.sparse import csr_matrix\n",
    "from sklearn.decomposition import NMF\n",
    "\n",
    "dataset = pd.read_csv(\n",
    "    './ml-100k/u.data',\n",
    "    names=[\"user_id\",\"item_id\",\"rating\",\"timestamp\"],\n",
    "    sep='\\t'\n",
    ")\n",
    "\n",
    "matrix_data = csr_matrix(\n",
    "    (dataset.rating,\n",
    "    (dataset.user_id,dataset.item_id))\n",
    ")"
   ]
  },
  {
   "cell_type": "code",
   "execution_count": 2,
   "metadata": {},
   "outputs": [],
   "source": [
    "topk = 10\n",
    "rank_list = [i+1 for i in range(topk)]\n",
    "latent = 50"
   ]
  },
  {
   "cell_type": "code",
   "execution_count": 3,
   "metadata": {},
   "outputs": [
    {
     "name": "stderr",
     "output_type": "stream",
     "text": [
      "/Users/seiji/opt/anaconda3/envs/sk/lib/python3.8/site-packages/sklearn/decomposition/_nmf.py:312: FutureWarning: The 'init' value, when 'init=None' and n_components is less than n_samples and n_features, will be changed from 'nndsvd' to 'nndsvda' in 1.1 (renaming of 0.26).\n",
      "  warnings.warn((\"The 'init' value, when 'init=None' and \"\n"
     ]
    },
    {
     "name": "stdout",
     "output_type": "stream",
     "text": [
      "(944, 50) (50, 1683)\n",
      "[[0.         0.         0.         ... 0.         0.         0.        ]\n",
      " [0.18054258 0.         0.         ... 0.1493733  0.         0.3333037 ]\n",
      " [0.         0.         0.         ... 0.17838728 0.         0.        ]\n",
      " ...\n",
      " [0.         0.         0.         ... 0.48620324 0.         0.        ]\n",
      " [0.28488398 0.00896217 0.         ... 0.07129368 0.41952928 0.        ]\n",
      " [0.14560388 0.05116421 0.         ... 0.10795718 0.2484114  0.        ]]\n",
      "[[0.         0.89153446 0.         ... 0.         0.         0.        ]\n",
      " [0.         0.         0.         ... 0.         0.         0.        ]\n",
      " [0.         0.         0.         ... 0.         0.         0.        ]\n",
      " ...\n",
      " [0.         4.77113444 0.         ... 0.         0.         0.        ]\n",
      " [0.         0.05081154 0.         ... 0.         0.         0.        ]\n",
      " [0.         0.         0.12854008 ... 0.         0.         0.02220051]]\n"
     ]
    },
    {
     "name": "stderr",
     "output_type": "stream",
     "text": [
      "/Users/seiji/opt/anaconda3/envs/sk/lib/python3.8/site-packages/sklearn/decomposition/_nmf.py:1090: ConvergenceWarning: Maximum number of iterations 200 reached. Increase it to improve convergence.\n",
      "  warnings.warn(\"Maximum number of iterations %d reached. Increase it to\"\n"
     ]
    }
   ],
   "source": [
    "\n",
    "nmf = NMF(n_components=latent)\n",
    "W = nmf.fit_transform(matrix_data)\n",
    "H = nmf.components_\n",
    "\n",
    "print(W.shape,H.shape)\n",
    "\n",
    "print(W)\n",
    "print(H)"
   ]
  },
  {
   "cell_type": "code",
   "execution_count": 4,
   "metadata": {},
   "outputs": [
    {
     "name": "stdout",
     "output_type": "stream",
     "text": [
      "(944, 1683)\n",
      "[[0.00000000e+00 0.00000000e+00 0.00000000e+00 ... 0.00000000e+00\n",
      "  0.00000000e+00 0.00000000e+00]\n",
      " [0.00000000e+00 4.79280298e+00 1.89759633e+00 ... 1.01734077e-03\n",
      "  3.06877154e-02 5.42014152e-02]\n",
      " [0.00000000e+00 1.97284766e+00 3.22194643e-03 ... 1.77552502e-02\n",
      "  0.00000000e+00 0.00000000e+00]\n",
      " ...\n",
      " [0.00000000e+00 3.53046874e+00 1.06039266e-01 ... 7.94472826e-04\n",
      "  0.00000000e+00 0.00000000e+00]\n",
      " [0.00000000e+00 1.35620180e+00 2.59440549e-01 ... 2.30994118e-02\n",
      "  2.48281122e-02 3.88597939e-05]\n",
      " [0.00000000e+00 1.85442361e+00 2.30143698e+00 ... 0.00000000e+00\n",
      "  4.33529345e-02 2.76470214e-02]]\n"
     ]
    }
   ],
   "source": [
    "WH = np.dot(W,H)\n",
    "\n",
    "print(WH.shape)\n",
    "print(WH)"
   ]
  },
  {
   "cell_type": "code",
   "execution_count": 5,
   "metadata": {},
   "outputs": [
    {
     "name": "stdout",
     "output_type": "stream",
     "text": [
      "[[0.00000000e+00 0.00000000e+00 0.00000000e+00 ... 0.00000000e+00\n",
      "  0.00000000e+00 0.00000000e+00]\n",
      " [0.00000000e+00 0.00000000e+00 0.00000000e+00 ... 1.01734077e-03\n",
      "  3.06877154e-02 5.42014152e-02]\n",
      " [0.00000000e+00 0.00000000e+00 3.22194643e-03 ... 1.77552502e-02\n",
      "  0.00000000e+00 0.00000000e+00]\n",
      " ...\n",
      " [0.00000000e+00 0.00000000e+00 1.06039266e-01 ... 7.94472826e-04\n",
      "  0.00000000e+00 0.00000000e+00]\n",
      " [0.00000000e+00 1.35620180e+00 2.59440549e-01 ... 2.30994118e-02\n",
      "  2.48281122e-02 3.88597939e-05]\n",
      " [0.00000000e+00 1.85442361e+00 0.00000000e+00 ... 0.00000000e+00\n",
      "  4.33529345e-02 2.76470214e-02]]\n"
     ]
    }
   ],
   "source": [
    "recommend_matrix = np.where(matrix_data.toarray(),0,WH)\n",
    "\n",
    "print(recommend_matrix)"
   ]
  },
  {
   "cell_type": "code",
   "execution_count": 6,
   "metadata": {},
   "outputs": [
    {
     "name": "stdout",
     "output_type": "stream",
     "text": [
      "Empty DataFrame\n",
      "Columns: [user_id, item_id, score, rank]\n",
      "Index: []\n"
     ]
    }
   ],
   "source": [
    "uq_users = np.sort(dataset.user_id.unique().tolist())\n",
    "\n",
    "df_recommend_list = pd.DataFrame(\n",
    "    columns=[\n",
    "        \"user_id\",\n",
    "        \"item_id\",\n",
    "        \"score\",\n",
    "        \"rank\"\n",
    "    ]\n",
    ")\n",
    "\n",
    "print(df_recommend_list)"
   ]
  },
  {
   "cell_type": "code",
   "execution_count": 7,
   "metadata": {},
   "outputs": [
    {
     "name": "stdout",
     "output_type": "stream",
     "text": [
      "   user_id item_id     score rank\n",
      "0        1     408  3.788241    1\n",
      "1        1     655  3.754274    2\n",
      "2        1     423  3.705817    3\n",
      "3        1     357  3.385563    4\n",
      "4        1     474  3.354870    5\n",
      "..     ...     ...       ...  ...\n",
      "5      943     684  2.710807    6\n",
      "6      943      17  2.680839    7\n",
      "7      943     265  2.616483    8\n",
      "8      943     276  2.542343    9\n",
      "9      943      77  2.513302   10\n",
      "\n",
      "[9430 rows x 4 columns]\n"
     ]
    }
   ],
   "source": [
    "for user_id in uq_users:\n",
    "    \n",
    "    item_scores = recommend_matrix[user_id]\n",
    "\n",
    "    df_recommend = pd.DataFrame()\n",
    "\n",
    "    df_recommend['user_id'] = [user_id] * topk\n",
    "    df_recommend['item_id'] = np.argsort(item_scores)[::-1][1:topk+1]\n",
    "    df_recommend['score'] = np.sort(item_scores)[::-1][1:topk+1]\n",
    "    df_recommend['rank'] = rank_list\n",
    "\n",
    "    df_recommend_list = pd.concat([df_recommend_list, df_recommend])\n",
    "\n",
    "print(df_recommend_list)\n"
   ]
  }
 ],
 "metadata": {
  "kernelspec": {
   "display_name": "Python 3.8.5 ('sk')",
   "language": "python",
   "name": "python3"
  },
  "language_info": {
   "codemirror_mode": {
    "name": "ipython",
    "version": 3
   },
   "file_extension": ".py",
   "mimetype": "text/x-python",
   "name": "python",
   "nbconvert_exporter": "python",
   "pygments_lexer": "ipython3",
   "version": "3.8.5"
  },
  "orig_nbformat": 4,
  "vscode": {
   "interpreter": {
    "hash": "3d02e86945c7b27a1991ebff07982d5e8bc12e9de63962ead29c884a3031ce37"
   }
  }
 },
 "nbformat": 4,
 "nbformat_minor": 2
}
