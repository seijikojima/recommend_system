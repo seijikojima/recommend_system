{
 "cells": [
  {
   "cell_type": "code",
   "execution_count": 1,
   "metadata": {},
   "outputs": [],
   "source": [
    "import pandas as pd\n",
    "import numpy as np\n",
    "\n",
    "dataset = pd.read_csv(\n",
    "    './ml-100k/u.data',\n",
    "    names=[\"user_id\",\"item_id\",\"rating\",\"timestamp\"],\n",
    "    sep='\\t'\n",
    ")"
   ]
  },
  {
   "cell_type": "code",
   "execution_count": 2,
   "metadata": {},
   "outputs": [
    {
     "name": "stdout",
     "output_type": "stream",
     "text": [
      "       user_id  item_id  rating  timestamp\n",
      "0          196      242       3  881250949\n",
      "1          186      302       3  891717742\n",
      "2           22      377       1  878887116\n",
      "3          244       51       2  880606923\n",
      "4          166      346       1  886397596\n",
      "...        ...      ...     ...        ...\n",
      "99995      880      476       3  880175444\n",
      "99996      716      204       5  879795543\n",
      "99997      276     1090       1  874795795\n",
      "99998       13      225       2  882399156\n",
      "99999       12      203       3  879959583\n",
      "\n",
      "[100000 rows x 4 columns]\n"
     ]
    }
   ],
   "source": [
    "print(dataset)"
   ]
  },
  {
   "cell_type": "code",
   "execution_count": 3,
   "metadata": {},
   "outputs": [
    {
     "name": "stdout",
     "output_type": "stream",
     "text": [
      "  (1, 1)\t5\n",
      "  (1, 2)\t3\n",
      "  (1, 3)\t4\n",
      "  (1, 4)\t3\n",
      "  (1, 5)\t3\n",
      "  (1, 6)\t5\n",
      "  (1, 7)\t4\n",
      "  (1, 8)\t1\n",
      "  (1, 9)\t5\n",
      "  (1, 10)\t3\n",
      "  (1, 11)\t2\n",
      "  (1, 12)\t5\n",
      "  (1, 13)\t5\n",
      "  (1, 14)\t5\n",
      "  (1, 15)\t5\n",
      "  (1, 16)\t5\n",
      "  (1, 17)\t3\n",
      "  (1, 18)\t4\n",
      "  (1, 19)\t5\n",
      "  (1, 20)\t4\n",
      "  (1, 21)\t1\n",
      "  (1, 22)\t4\n",
      "  (1, 23)\t4\n",
      "  (1, 24)\t3\n",
      "  (1, 25)\t4\n",
      "  :\t:\n",
      "  (943, 739)\t4\n",
      "  (943, 756)\t2\n",
      "  (943, 763)\t4\n",
      "  (943, 765)\t3\n",
      "  (943, 785)\t2\n",
      "  (943, 794)\t3\n",
      "  (943, 796)\t3\n",
      "  (943, 808)\t4\n",
      "  (943, 816)\t4\n",
      "  (943, 824)\t4\n",
      "  (943, 825)\t3\n",
      "  (943, 831)\t2\n",
      "  (943, 840)\t4\n",
      "  (943, 928)\t5\n",
      "  (943, 941)\t1\n",
      "  (943, 943)\t5\n",
      "  (943, 1011)\t2\n",
      "  (943, 1028)\t2\n",
      "  (943, 1044)\t3\n",
      "  (943, 1047)\t2\n",
      "  (943, 1067)\t2\n",
      "  (943, 1074)\t4\n",
      "  (943, 1188)\t3\n",
      "  (943, 1228)\t3\n",
      "  (943, 1330)\t3\n"
     ]
    }
   ],
   "source": [
    "from scipy.sparse import csr_matrix\n",
    "\n",
    "matrix_data = csr_matrix(\n",
    "    (dataset.rating,\n",
    "    (dataset.user_id,dataset.item_id))\n",
    ")\n",
    "\n",
    "print(matrix_data)"
   ]
  },
  {
   "cell_type": "code",
   "execution_count": 4,
   "metadata": {},
   "outputs": [],
   "source": [
    "topk = 10\n",
    "rank_list = [i+1 for i in range(topk)]"
   ]
  },
  {
   "cell_type": "code",
   "execution_count": 5,
   "metadata": {},
   "outputs": [],
   "source": [
    "user_data = csr_matrix(\n",
    "    (dataset.rating,\n",
    "    (dataset.user_id,dataset.item_id))\n",
    ")"
   ]
  },
  {
   "cell_type": "code",
   "execution_count": 6,
   "metadata": {},
   "outputs": [
    {
     "name": "stdout",
     "output_type": "stream",
     "text": [
      "(944, 944)\n"
     ]
    }
   ],
   "source": [
    "from sklearn.metrics.pairwise import cosine_similarity\n",
    "\n",
    "user_similarity = cosine_similarity(user_data)\n",
    "print(user_similarity.shape)"
   ]
  },
  {
   "cell_type": "code",
   "execution_count": 7,
   "metadata": {},
   "outputs": [
    {
     "name": "stdout",
     "output_type": "stream",
     "text": [
      "Empty DataFrame\n",
      "Columns: [base_user_id, similar_user_id, cosine_score, rank]\n",
      "Index: []\n"
     ]
    }
   ],
   "source": [
    "uq_users = np.sort(dataset.user_id.unique().tolist())\n",
    "\n",
    "df_similar_user_list = pd.DataFrame(\n",
    "    columns=[\n",
    "        \"base_user_id\",\n",
    "        \"similar_user_id\",\n",
    "        \"cosine_score\",\n",
    "        \"rank\"\n",
    "    ]\n",
    ")\n",
    "\n",
    "print(df_similar_user_list)"
   ]
  },
  {
   "cell_type": "code",
   "execution_count": 8,
   "metadata": {},
   "outputs": [],
   "source": [
    "for user_id in uq_users:\n",
    "    \n",
    "    similar_score = user_similarity[user_id]\n",
    "\n",
    "    df_similar_user = pd.DataFrame()\n",
    "\n",
    "    df_similar_user['base_user_id'] = [user_id] * topk\n",
    "    df_similar_user['similar_user_id'] = np.argsort(similar_score)[::-1][1:topk+1]\n",
    "    df_similar_user['cosine_score'] = np.sort(similar_score)[::-1][1:topk+1]\n",
    "    df_similar_user['rank'] = rank_list\n",
    "\n",
    "    df_similar_user_list = pd.concat([df_similar_user_list, df_similar_user])\n",
    "    # df_similar_user_list = df_similar_user_list.append(\n",
    "    #     df_similar_user,\n",
    "    #     ignore_index=True\n",
    "    # )"
   ]
  },
  {
   "cell_type": "code",
   "execution_count": 9,
   "metadata": {},
   "outputs": [
    {
     "name": "stdout",
     "output_type": "stream",
     "text": [
      "   base_user_id similar_user_id  cosine_score rank\n",
      "0             1             916      0.569066    1\n",
      "1             1             864      0.547548    2\n",
      "2             1             268      0.542077    3\n",
      "3             1              92      0.540534    4\n",
      "4             1             435      0.538665    5\n",
      "..          ...             ...           ...  ...\n",
      "5           943             276      0.498243    6\n",
      "6           943             709      0.493219    7\n",
      "7           943             586      0.491972    8\n",
      "8           943             472      0.488882    9\n",
      "9           943             864      0.488014   10\n",
      "\n",
      "[9430 rows x 4 columns]\n"
     ]
    }
   ],
   "source": [
    "print(df_similar_user_list)"
   ]
  }
 ],
 "metadata": {
  "kernelspec": {
   "display_name": "Python 3.8.5 ('sk')",
   "language": "python",
   "name": "python3"
  },
  "language_info": {
   "codemirror_mode": {
    "name": "ipython",
    "version": 3
   },
   "file_extension": ".py",
   "mimetype": "text/x-python",
   "name": "python",
   "nbconvert_exporter": "python",
   "pygments_lexer": "ipython3",
   "version": "3.8.5"
  },
  "orig_nbformat": 4,
  "vscode": {
   "interpreter": {
    "hash": "3d02e86945c7b27a1991ebff07982d5e8bc12e9de63962ead29c884a3031ce37"
   }
  }
 },
 "nbformat": 4,
 "nbformat_minor": 2
}
