{
 "cells": [
  {
   "cell_type": "code",
   "execution_count": 1,
   "metadata": {},
   "outputs": [],
   "source": [
    "import pandas as pd\n",
    "import numpy as np\n",
    "\n",
    "dataset = pd.read_csv(\n",
    "    './ml-100k/u.data',\n",
    "    names=[\"user_id\",\"item_id\",\"rating\",\"timestamp\"],\n",
    "    sep='\\t'\n",
    ")"
   ]
  },
  {
   "cell_type": "code",
   "execution_count": 2,
   "metadata": {},
   "outputs": [],
   "source": [
    "from scipy.sparse import csr_matrix\n",
    "\n",
    "item_data = csr_matrix(\n",
    "    (dataset.rating,\n",
    "    (dataset.user_id,dataset.item_id))\n",
    ")"
   ]
  },
  {
   "cell_type": "code",
   "execution_count": 3,
   "metadata": {},
   "outputs": [],
   "source": [
    "topk = 10\n",
    "rank_list = [i+1 for i in range(topk)]"
   ]
  },
  {
   "cell_type": "code",
   "execution_count": 4,
   "metadata": {},
   "outputs": [],
   "source": [
    "item_data = csr_matrix(\n",
    "    (dataset.rating,\n",
    "    (dataset.item_id,dataset.user_id))\n",
    ")"
   ]
  },
  {
   "cell_type": "code",
   "execution_count": 5,
   "metadata": {},
   "outputs": [
    {
     "name": "stdout",
     "output_type": "stream",
     "text": [
      "(1683, 1683)\n"
     ]
    }
   ],
   "source": [
    "from sklearn.metrics.pairwise import cosine_similarity\n",
    "\n",
    "item_similarity = cosine_similarity(item_data)\n",
    "print(item_similarity.shape)"
   ]
  },
  {
   "cell_type": "code",
   "execution_count": 6,
   "metadata": {},
   "outputs": [
    {
     "name": "stdout",
     "output_type": "stream",
     "text": [
      "Empty DataFrame\n",
      "Columns: [base_item_id, similar_item_id, cosine_score, rank]\n",
      "Index: []\n"
     ]
    }
   ],
   "source": [
    "uq_items = np.sort(dataset.item_id.unique().tolist())\n",
    "\n",
    "df_similar_item_list = pd.DataFrame(\n",
    "    columns=[\n",
    "        \"base_item_id\",\n",
    "        \"similar_item_id\",\n",
    "        \"cosine_score\",\n",
    "        \"rank\"\n",
    "    ]\n",
    ")\n",
    "\n",
    "print(df_similar_item_list)"
   ]
  },
  {
   "cell_type": "code",
   "execution_count": 7,
   "metadata": {},
   "outputs": [],
   "source": [
    "for item_id in uq_items:\n",
    "    \n",
    "    similar_score = item_similarity[item_id]\n",
    "\n",
    "    df_similar_item = pd.DataFrame()\n",
    "\n",
    "    df_similar_item['base_item_id'] = [item_id] * topk\n",
    "    df_similar_item['similar_item_id'] = np.argsort(similar_score)[::-1][1:topk+1]\n",
    "    df_similar_item['cosine_score'] = np.sort(similar_score)[::-1][1:topk+1]\n",
    "    df_similar_item['rank'] = rank_list\n",
    "\n",
    "    df_similar_item_list = pd.concat([df_similar_item_list, df_similar_item])"
   ]
  },
  {
   "cell_type": "code",
   "execution_count": 8,
   "metadata": {},
   "outputs": [
    {
     "name": "stdout",
     "output_type": "stream",
     "text": [
      "   base_item_id similar_item_id  cosine_score rank\n",
      "0             1              50      0.734572    1\n",
      "1             1             181      0.699925    2\n",
      "2             1             121      0.689786    3\n",
      "3             1             117      0.664555    4\n",
      "4             1             405      0.641322    5\n",
      "..          ...             ...           ...  ...\n",
      "5          1682            1268      0.266207    6\n",
      "6          1682            1113      0.248069    7\n",
      "7          1682            1428      0.231455    8\n",
      "8          1682             960      0.229794    9\n",
      "9          1682            1005      0.219199   10\n",
      "\n",
      "[16820 rows x 4 columns]\n"
     ]
    }
   ],
   "source": [
    "print(df_similar_item_list)"
   ]
  }
 ],
 "metadata": {
  "kernelspec": {
   "display_name": "Python 3.8.5 ('sk')",
   "language": "python",
   "name": "python3"
  },
  "language_info": {
   "codemirror_mode": {
    "name": "ipython",
    "version": 3
   },
   "file_extension": ".py",
   "mimetype": "text/x-python",
   "name": "python",
   "nbconvert_exporter": "python",
   "pygments_lexer": "ipython3",
   "version": "3.8.5"
  },
  "orig_nbformat": 4,
  "vscode": {
   "interpreter": {
    "hash": "3d02e86945c7b27a1991ebff07982d5e8bc12e9de63962ead29c884a3031ce37"
   }
  }
 },
 "nbformat": 4,
 "nbformat_minor": 2
}
